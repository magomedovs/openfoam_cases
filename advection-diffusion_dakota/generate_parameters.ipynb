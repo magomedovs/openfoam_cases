{
 "cells": [
  {
   "cell_type": "code",
   "execution_count": 68,
   "metadata": {},
   "outputs": [],
   "source": [
    "import numpy as np\n",
    "import pandas as pd"
   ]
  },
  {
   "cell_type": "markdown",
   "metadata": {},
   "source": [
    "df = pd.DataFrame(\n",
    "    {\n",
    "        \"Name\": [\n",
    "            \"Braund, Mr. Owen Harris\",\n",
    "            \"Allen, Mr. William Henry\",\n",
    "            \"Bonnell, Miss. Elizabeth\",\n",
    "        ],\n",
    "        \"Age\": [22, 35, 58],\n",
    "        \"Sex\": [\"male\", \"male\", \"female\"],\n",
    "    }\n",
    ")\n",
    "df"
   ]
  },
  {
   "cell_type": "code",
   "execution_count": 73,
   "metadata": {},
   "outputs": [],
   "source": [
    "number_of_samples = 5000\n",
    "\n",
    "# Create a np.array of length \"number_of_samples\" filled with random values from the interval \"interval\"\n",
    "def generate_random_arr_in_interval(interval, number_of_samples=number_of_samples):\n",
    "  return np.random.rand(number_of_samples) * (interval[1] - interval[0]) + interval[0]"
   ]
  },
  {
   "cell_type": "code",
   "execution_count": 74,
   "metadata": {},
   "outputs": [],
   "source": [
    "centre_min_max = [0.05, 0.95]\n",
    "radius_min_max = [0.05, 0.7]\n",
    "amplitude_min_max = [30, 90]\n",
    "\n",
    "params = pd.DataFrame(\n",
    "  {\n",
    "    \"eval_id\": [i for i in range(1, number_of_samples+1)],      # sample number, counting from 1\n",
    "    \"interface\": [\"NO_ID\"] * number_of_samples,                 # fill with \"NO_ID\"\n",
    "    \"c1_x\": [*generate_random_arr_in_interval(centre_min_max)],\n",
    "    \"c1_y\": [*generate_random_arr_in_interval(centre_min_max)],\n",
    "    \"r1\": [*generate_random_arr_in_interval(radius_min_max)],\n",
    "    \"a1\": [*generate_random_arr_in_interval(amplitude_min_max)],\n",
    "    \"c2_x\": [*generate_random_arr_in_interval(centre_min_max)],\n",
    "    \"c2_y\": [*generate_random_arr_in_interval(centre_min_max)], \n",
    "    \"r2\": [*generate_random_arr_in_interval(radius_min_max)],\n",
    "    \"a2\": [*generate_random_arr_in_interval(amplitude_min_max)],\n",
    "    \"c3_x\": [*generate_random_arr_in_interval(centre_min_max)],\n",
    "    \"c3_y\": [*generate_random_arr_in_interval(centre_min_max)],\n",
    "    \"r3\": [*generate_random_arr_in_interval(radius_min_max)],\n",
    "    \"a3\": [*generate_random_arr_in_interval(amplitude_min_max)]\n",
    "  }\n",
    ")"
   ]
  },
  {
   "cell_type": "code",
   "execution_count": 71,
   "metadata": {},
   "outputs": [
    {
     "data": {
      "text/html": [
       "<div>\n",
       "<style scoped>\n",
       "    .dataframe tbody tr th:only-of-type {\n",
       "        vertical-align: middle;\n",
       "    }\n",
       "\n",
       "    .dataframe tbody tr th {\n",
       "        vertical-align: top;\n",
       "    }\n",
       "\n",
       "    .dataframe thead th {\n",
       "        text-align: right;\n",
       "    }\n",
       "</style>\n",
       "<table border=\"1\" class=\"dataframe\">\n",
       "  <thead>\n",
       "    <tr style=\"text-align: right;\">\n",
       "      <th></th>\n",
       "      <th>eval_id</th>\n",
       "      <th>interface</th>\n",
       "      <th>c1_x</th>\n",
       "      <th>c1_y</th>\n",
       "      <th>r1</th>\n",
       "      <th>a1</th>\n",
       "      <th>c2_x</th>\n",
       "      <th>c2_y</th>\n",
       "      <th>r2</th>\n",
       "      <th>a2</th>\n",
       "      <th>c3_x</th>\n",
       "      <th>c3_y</th>\n",
       "      <th>r3</th>\n",
       "      <th>a3</th>\n",
       "    </tr>\n",
       "  </thead>\n",
       "  <tbody>\n",
       "    <tr>\n",
       "      <th>0</th>\n",
       "      <td>1</td>\n",
       "      <td>NO_ID</td>\n",
       "      <td>0.671303</td>\n",
       "      <td>0.810929</td>\n",
       "      <td>0.515450</td>\n",
       "      <td>69.045741</td>\n",
       "      <td>0.194061</td>\n",
       "      <td>0.104698</td>\n",
       "      <td>0.295229</td>\n",
       "      <td>61.690625</td>\n",
       "      <td>0.458314</td>\n",
       "      <td>0.121345</td>\n",
       "      <td>0.492443</td>\n",
       "      <td>81.535826</td>\n",
       "    </tr>\n",
       "    <tr>\n",
       "      <th>1</th>\n",
       "      <td>2</td>\n",
       "      <td>NO_ID</td>\n",
       "      <td>0.663149</td>\n",
       "      <td>0.469021</td>\n",
       "      <td>0.491577</td>\n",
       "      <td>50.760517</td>\n",
       "      <td>0.265961</td>\n",
       "      <td>0.875479</td>\n",
       "      <td>0.089738</td>\n",
       "      <td>44.703093</td>\n",
       "      <td>0.546511</td>\n",
       "      <td>0.729140</td>\n",
       "      <td>0.666429</td>\n",
       "      <td>67.523627</td>\n",
       "    </tr>\n",
       "    <tr>\n",
       "      <th>2</th>\n",
       "      <td>3</td>\n",
       "      <td>NO_ID</td>\n",
       "      <td>0.225632</td>\n",
       "      <td>0.898724</td>\n",
       "      <td>0.470370</td>\n",
       "      <td>68.192283</td>\n",
       "      <td>0.872368</td>\n",
       "      <td>0.568956</td>\n",
       "      <td>0.644414</td>\n",
       "      <td>48.054246</td>\n",
       "      <td>0.292085</td>\n",
       "      <td>0.331824</td>\n",
       "      <td>0.137259</td>\n",
       "      <td>65.233247</td>\n",
       "    </tr>\n",
       "  </tbody>\n",
       "</table>\n",
       "</div>"
      ],
      "text/plain": [
       "   eval_id interface      c1_x      c1_y        r1         a1      c2_x  \\\n",
       "0        1     NO_ID  0.671303  0.810929  0.515450  69.045741  0.194061   \n",
       "1        2     NO_ID  0.663149  0.469021  0.491577  50.760517  0.265961   \n",
       "2        3     NO_ID  0.225632  0.898724  0.470370  68.192283  0.872368   \n",
       "\n",
       "       c2_y        r2         a2      c3_x      c3_y        r3         a3  \n",
       "0  0.104698  0.295229  61.690625  0.458314  0.121345  0.492443  81.535826  \n",
       "1  0.875479  0.089738  44.703093  0.546511  0.729140  0.666429  67.523627  \n",
       "2  0.568956  0.644414  48.054246  0.292085  0.331824  0.137259  65.233247  "
      ]
     },
     "execution_count": 71,
     "metadata": {},
     "output_type": "execute_result"
    }
   ],
   "source": [
    "params[:3]"
   ]
  },
  {
   "cell_type": "code",
   "execution_count": 75,
   "metadata": {},
   "outputs": [],
   "source": [
    "# params.to_csv(\"dakota_pstudy.dat\", sep = '\\t', float_format='%.6f', index=False)"
   ]
  },
  {
   "cell_type": "code",
   "execution_count": null,
   "metadata": {},
   "outputs": [],
   "source": []
  }
 ],
 "metadata": {
  "kernelspec": {
   "display_name": "Python 3",
   "language": "python",
   "name": "python3"
  },
  "language_info": {
   "codemirror_mode": {
    "name": "ipython",
    "version": 3
   },
   "file_extension": ".py",
   "mimetype": "text/x-python",
   "name": "python",
   "nbconvert_exporter": "python",
   "pygments_lexer": "ipython3",
   "version": "3.10.12"
  }
 },
 "nbformat": 4,
 "nbformat_minor": 2
}
